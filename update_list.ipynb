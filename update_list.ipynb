{
 "cells": [
  {
   "cell_type": "markdown",
   "metadata": {},
   "source": [
    "# Update species seen file"
   ]
  },
  {
   "cell_type": "markdown",
   "metadata": {},
   "source": [
    "Creates an aggregate life list using checklists \n",
    "\n",
    "Before running this file:\n",
    "* Use `initialize_list.ipynb` to generate a base list of all scientific and English (United States) common names\n",
    "* Ensure your eBird \"Species name display\" preference is set to one of the following:\n",
    "    * \"Both\"\n",
    "    * \"Scientific name\"\n",
    "    * \"Common name\" with the English (United States) translation option selected\n",
    "* Obtain your eBird life list from [this link](https://ebird.org/MyEBird?cmd=list&rtype=custom&r=world&time=life&fmt=csv) while logged into your eBird account\n",
    "* Place all `.csv`s to be processed in the `csv_dir_new` directory. Once each has been processed, it will be moved to the `csv_dir_processed` directory"
   ]
  },
  {
   "cell_type": "code",
   "execution_count": 1,
   "metadata": {},
   "outputs": [],
   "source": [
    "import os\n",
    "import pandas as pd"
   ]
  },
  {
   "cell_type": "code",
   "execution_count": 2,
   "metadata": {},
   "outputs": [],
   "source": [
    "# Where lists to be processed are stored\n",
    "csv_dir_new = 'lists_new/'\n",
    "csv_dir_processed = 'lists_processed/'\n",
    "\n",
    "# Where the completed seen_list is stored\n",
    "current_list = 'seen_list.csv'\n",
    "name_of_seen_column = 'number of people seeing species'"
   ]
  },
  {
   "cell_type": "markdown",
   "metadata": {},
   "source": [
    "For a demonstration, use the lines below. For using your own lists, comment out the lines below."
   ]
  },
  {
   "cell_type": "code",
   "execution_count": 3,
   "metadata": {},
   "outputs": [],
   "source": [
    "# Test lists for demonstration\n",
    "csv_dir_new = 'lists_test/'\n",
    "csv_dir_processed = 'lists_test/'"
   ]
  },
  {
   "cell_type": "markdown",
   "metadata": {},
   "source": [
    "Load current list of species and get total number of species possible"
   ]
  },
  {
   "cell_type": "code",
   "execution_count": 4,
   "metadata": {},
   "outputs": [],
   "source": [
    "# Use scientific name as index for easy lookup by scientific names later\n",
    "all_species = pd.read_csv(current_list, index_col = 'scientific name')\n",
    "total_spp_possible = all_species.shape[0]"
   ]
  },
  {
   "cell_type": "code",
   "execution_count": 5,
   "metadata": {},
   "outputs": [],
   "source": [
    "all_species_scientific = all_species.index\n",
    "all_species_common = all_species['English name'].values\n",
    "\n",
    "def check_spp(sub_list, list_type):\n",
    "    '''\n",
    "    Make sure sub_list contains only \n",
    "    elements that are in master_list\n",
    "    \n",
    "    Returns:\n",
    "        True if sub_list is subset of master_list\n",
    "        False if not\n",
    "    '''\n",
    "\n",
    "    if list_type == 'scientific':\n",
    "        return set(sub_list).issubset(set(all_species_scientific))\n",
    "    elif list_type == 'common':\n",
    "        return set(sub_list).issubset(set(all_species_common))\n",
    "    else:\n",
    "        return False\n",
    "\n",
    "def add_spp(sub_list, list_type):\n",
    "    '''\n",
    "    For species in sub_list, increment\n",
    "    seen column of master dataframe inplace\n",
    "    \n",
    "    Inputs:\n",
    "        sub_list: list of species to increment\n",
    "        list_type (string): either 'scientific' or 'common'\n",
    "    \n",
    "        Also assumes the existence of global variables:\n",
    "            all_species (DataFrame)\n",
    "            name_of_seen_column (column to increment)\n",
    "    '''\n",
    "    if list_type == 'scientific':\n",
    "        for scientific_name in sub_list:\n",
    "            all_species.loc[scientific_name, name_of_seen_column] += 1\n",
    "            \n",
    "    else: #list_type == 'common'\n",
    "        for common_name in sub_list:\n",
    "             all_species.loc[all_species['English name'] == common_name, name_of_seen_column] += 1\n",
    "                \n",
    "    return 0"
   ]
  },
  {
   "cell_type": "code",
   "execution_count": 6,
   "metadata": {},
   "outputs": [
    {
     "name": "stdout",
     "output_type": "stream",
     "text": [
      "test_ebird_world_life_list_scinames.csv: using scientific name\n",
      "test_ebird_world_life_list_commonnames.csv: using English name\n",
      "test_ebird_world_life_list_common-and-scinames.csv: splitting species column & using scientific name\n"
     ]
    }
   ],
   "source": [
    "csvs_to_process = [file for file in os.listdir(csv_dir_new) if file.endswith('.csv')]\n",
    "\n",
    "\n",
    "# For all new csvs\n",
    "for csv_name in csvs_to_process:\n",
    "    \n",
    "    csv_path = os.path.join(csv_dir_new, csv_name)\n",
    "    life_list = pd.read_csv(csv_path)\n",
    "    errors = False\n",
    "    \n",
    "    # Increment rows of all_species DataFrame, using different row\n",
    "    # locator algorithm depending on format of .csv\n",
    "    \n",
    "    try:\n",
    "        assert 'Species' in life_list.columns\n",
    "        species = life_list.Species\n",
    "        first_species = species[0]\n",
    "    except AssertionError:\n",
    "        first_species = None\n",
    "    \n",
    "    # If 'Species' column of .csv is in \"English name - scientific name\" format:\n",
    "    \n",
    "    if ' - ' in first_species:\n",
    "        print(f'{csv_name}: splitting species column & using scientific name')\n",
    "        \n",
    "        # Get species on life list\n",
    "        species_seen_by_birder = [entry.split(' - ')[-1] for entry in species]\n",
    "        list_type = 'scientific'\n",
    "    \n",
    "    # If 'Species' column of .csv is in English name only format\n",
    "    elif first_species in all_species_common:\n",
    "        print(f'{csv_name}: using English name')\n",
    "        \n",
    "        species_seen_by_birder = life_list['Species'].values\n",
    "        list_type = 'common'\n",
    "           \n",
    "    # If 'Species' column of .csv is in scientific name only format\n",
    "    elif first_species in all_species_scientific:\n",
    "        print(f'{csv_name}: using scientific name')\n",
    "        \n",
    "        species_seen_by_birder = life_list['Species'].values\n",
    "        list_type = 'scientific'\n",
    "    \n",
    "    else:\n",
    "        errors = True\n",
    "        print('Unknown species type')\n",
    "        \n",
    "        \n",
    "    # Check that all species are valid\n",
    "    if check_spp(species_seen_by_birder, list_type) and not errors:\n",
    "\n",
    "        # Add species to dataframe based on scientific name\n",
    "        errors = add_spp(species_seen_by_birder, list_type)\n",
    "\n",
    "    # Not all species were valid\n",
    "    else:\n",
    "        errors = True\n",
    "\n",
    "    \n",
    "    if not errors:\n",
    "          \n",
    "        # Move file to 'processed' folder\n",
    "        os.rename(csv_path, os.path.join(csv_dir_processed, csv_name))\n",
    "        \n",
    "    else:\n",
    "        print(f'Failure for {csv_name}')\n",
    "  "
   ]
  },
  {
   "cell_type": "markdown",
   "metadata": {},
   "source": [
    "Ensure we haven't added any extra species!"
   ]
  },
  {
   "cell_type": "code",
   "execution_count": 7,
   "metadata": {},
   "outputs": [],
   "source": [
    "assert(all_species.shape[0] == total_spp_possible)"
   ]
  },
  {
   "cell_type": "markdown",
   "metadata": {},
   "source": [
    "Save to `.csv`"
   ]
  },
  {
   "cell_type": "code",
   "execution_count": 8,
   "metadata": {},
   "outputs": [],
   "source": [
    "all_species.to_csv(current_list)"
   ]
  }
 ],
 "metadata": {
  "kernelspec": {
   "display_name": "Python 3",
   "language": "python",
   "name": "python3"
  },
  "language_info": {
   "codemirror_mode": {
    "name": "ipython",
    "version": 3
   },
   "file_extension": ".py",
   "mimetype": "text/x-python",
   "name": "python",
   "nbconvert_exporter": "python",
   "pygments_lexer": "ipython3",
   "version": "3.6.8"
  }
 },
 "nbformat": 4,
 "nbformat_minor": 2
}
