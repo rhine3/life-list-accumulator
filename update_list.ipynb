{
 "cells": [
  {
   "cell_type": "markdown",
   "metadata": {},
   "source": [
    "# Update species seen file"
   ]
  },
  {
   "cell_type": "markdown",
   "metadata": {},
   "source": [
    "Uses checklists obtained from clicking on [this link](https://ebird.org/MyEBird?cmd=list&rtype=custom&r=world&time=life&fmt=csv) while logged into your eBird account"
   ]
  },
  {
   "cell_type": "code",
   "execution_count": 1,
   "metadata": {},
   "outputs": [],
   "source": [
    "import os\n",
    "import pandas as pd"
   ]
  },
  {
   "cell_type": "code",
   "execution_count": 2,
   "metadata": {},
   "outputs": [],
   "source": [
    "# Where lists to be processed are stored\n",
    "csv_dir_new = 'lists_new/'\n",
    "csv_dir_processed = 'lists_processed/'\n",
    "\n",
    "# Where the completed seen_list is stored\n",
    "current_list = 'seen_list.csv'\n",
    "name_of_seen_column = 'number of people seeing species'"
   ]
  },
  {
   "cell_type": "code",
   "execution_count": 3,
   "metadata": {},
   "outputs": [],
   "source": [
    "csvs_to_process = [file for file in os.listdir(csv_dir_new) if file.endswith('.csv')]\n",
    "\n",
    "all_species = pd.read_csv(current_list, index_col = 'scientific name')\n",
    "\n",
    "# For all new csvs\n",
    "for csv_name in csvs_to_process:\n",
    "    csv_path = os.path.join(csv_dir_new, csv_name)\n",
    "    life_list = pd.read_csv(csv_path)\n",
    "    \n",
    "    # Separate 'Species' column into Common Name and Scientific Name columns\n",
    "    life_list[['Common Name', 'Scientific Name']] = life_list.Species.str.split(' - ', expand=True) \n",
    "    \n",
    "    # Increment\n",
    "    for seen_species in life_list['Scientific Name'].values:\n",
    "        all_species.loc[seen_species, name_of_seen_column] += 1\n",
    "    \n",
    "    # Move file to 'processed' folder\n",
    "    os.rename(csv_path, os.path.join(csv_dir_processed, csv_name))\n",
    "    \n",
    "all_species.to_csv(current_list)"
   ]
  }
 ],
 "metadata": {
  "kernelspec": {
   "display_name": "Python 3",
   "language": "python",
   "name": "python3"
  },
  "language_info": {
   "codemirror_mode": {
    "name": "ipython",
    "version": 3
   },
   "file_extension": ".py",
   "mimetype": "text/x-python",
   "name": "python",
   "nbconvert_exporter": "python",
   "pygments_lexer": "ipython3",
   "version": "3.6.8"
  }
 },
 "nbformat": 4,
 "nbformat_minor": 2
}
