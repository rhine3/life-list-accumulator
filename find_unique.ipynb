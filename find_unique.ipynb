{
 "cells": [
  {
   "cell_type": "markdown",
   "metadata": {},
   "source": [
    "Find and print the list species seen only by one birder.\n",
    "\n",
    "Before running this, the following must be true:\n",
    "* `update_list.ipynb` has been run\n",
    "* All `.csvs` in `csv_dir_processed` are labeled with a space-separated hyphen before the birder's name, e.g. `ebird_life_list - Tessa Rhinehart.csv`"
   ]
  },
  {
   "cell_type": "code",
   "execution_count": null,
   "metadata": {},
   "outputs": [],
   "source": [
    "import pandas as pd\n",
    "import os"
   ]
  },
  {
   "cell_type": "code",
   "execution_count": null,
   "metadata": {},
   "outputs": [],
   "source": [
    "# Where the processed lists are stored\n",
    "csv_dir_processed = 'lists_processed/'\n",
    "\n",
    "# Where the completed seen_list is stored\n",
    "current_list = 'seen_list.csv'\n",
    "name_of_seen_column = 'number of people seeing species'"
   ]
  },
  {
   "cell_type": "markdown",
   "metadata": {},
   "source": [
    "Collect a list of species seen by every person, and cross-reference against the unique species list"
   ]
  },
  {
   "cell_type": "code",
   "execution_count": null,
   "metadata": {},
   "outputs": [],
   "source": [
    "all_sightings = pd.read_csv(current_list)"
   ]
  },
  {
   "cell_type": "code",
   "execution_count": null,
   "metadata": {},
   "outputs": [],
   "source": [
    "csvs_to_examine = [\n",
    "    os.path.join(csv_dir_processed, file)\n",
    "                 for file in os.listdir(csv_dir_processed)\n",
    "                 if file.endswith('.csv')]\n",
    "                 \n",
    "all_data = pd.DataFrame({'scientific name'})\n",
    "\n",
    "print(f'Total number of birders: {len(csvs_to_examine)}')"
   ]
  },
  {
   "cell_type": "code",
   "execution_count": null,
   "metadata": {},
   "outputs": [],
   "source": [
    "# Get total number of species seen\n",
    "been_sighted = all_sightings[all_sightings[name_of_seen_column] > 0]\n",
    "been_sighted.shape[0]\n",
    "print(f'Total size of cumulative list: {been_sighted.shape[0]}')\n",
    "\n",
    "# Get list of species seen only by one contributor\n",
    "single_sightings = all_sightings[all_sightings[name_of_seen_column] == 1]\n",
    "single_sightings.shape[0]\n",
    "print(f'Total number of unique contributions: {single_sightings.shape[0]}')"
   ]
  },
  {
   "cell_type": "code",
   "execution_count": null,
   "metadata": {},
   "outputs": [],
   "source": [
    "print()\n",
    "print()\n",
    "individual_uniques = {} # A dictionary for each person's unique sightings\n",
    "for csv in csvs_to_examine:\n",
    "    birder = csv.split(' - ')[-1].split('.')[0]\n",
    "    print('Birder:', birder)\n",
    "    \n",
    "    their_data = pd.read_csv(csv)\n",
    "    their_species = their_data.Species.values\n",
    "    first_species = their_species[0]\n",
    "    \n",
    "    name_type = None\n",
    "    names = None\n",
    "    # If 'Species' column of .csv is in Common name - species name format\n",
    "    if ' - ' in first_species:\n",
    "        name_type = 'scientific'\n",
    "        names = [name.split(' - ')[-1] for name in their_species]\n",
    "      \n",
    "    # If 'Species' column of .csv is in English name only format\n",
    "    elif first_species in all_sightings['English name'].values:\n",
    "        name_type = 'common'\n",
    "        names = list(their_species)\n",
    "            \n",
    "    # If 'Species' column of .csv is in scientific name only format\n",
    "    elif first_species in all_sightings['scientific name'].values:\n",
    "        name_type = 'scientific'\n",
    "        names = list(their_species)\n",
    "    \n",
    "    uniques = []\n",
    "    # Find all species in this birder's sightings that are in the single_sightings DF\n",
    "    if name_type == 'scientific':\n",
    "        print('Using scientific')\n",
    "        for species in single_sightings['scientific name']:\n",
    "            if species in names:\n",
    "                uniques.append(single_sightings[single_sightings['scientific name']==species].values)\n",
    "    else: #name_type == common\n",
    "        print('Using common')\n",
    "        for species in single_sightings['English name']:\n",
    "            if species in names:\n",
    "                uniques.append(single_sightings[single_sightings['English name']==species].values)\n",
    "\n",
    "    # Ascertain if this person has contributed the most unique species so far\n",
    "    individual_uniques[birder] = len(uniques)\n",
    "        \n",
    "    print(f'Species seen only by this birder: {len(uniques)}')\n",
    "    for sighting in uniques:\n",
    "        print(f'{sighting[0][1]} ({sighting[0][0]})')\n",
    "        \n",
    "    print()\n",
    "    print()"
   ]
  },
  {
   "cell_type": "code",
   "execution_count": null,
   "metadata": {},
   "outputs": [],
   "source": [
    "individual_uniques"
   ]
  },
  {
   "cell_type": "code",
   "execution_count": null,
   "metadata": {},
   "outputs": [],
   "source": []
  }
 ],
 "metadata": {
  "kernelspec": {
   "display_name": "Python 3",
   "language": "python",
   "name": "python3"
  },
  "language_info": {
   "codemirror_mode": {
    "name": "ipython",
    "version": 3
   },
   "file_extension": ".py",
   "mimetype": "text/x-python",
   "name": "python",
   "nbconvert_exporter": "python",
   "pygments_lexer": "ipython3",
   "version": "3.6.8"
  }
 },
 "nbformat": 4,
 "nbformat_minor": 2
}
