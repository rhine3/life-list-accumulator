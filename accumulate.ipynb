{
 "cells": [
  {
   "cell_type": "markdown",
   "metadata": {},
   "source": [
    "# Update species seen file"
   ]
  },
  {
   "cell_type": "markdown",
   "metadata": {},
   "source": [
    "Creates an aggregate life list using checklists \n",
    "\n",
    "Before running this file:\n",
    "* Use `initialize_list.ipynb` to generate a base list of all scientific and English (United States) common names\n",
    "* Ensure your eBird \"Species name display\" preference is set to one of the following:\n",
    "    * \"Both\"\n",
    "    * \"Scientific name\"\n",
    "    * \"Common name\" with the English (United States) translation option selected\n",
    "* Obtain your eBird life list from [this link](https://ebird.org/MyEBird?cmd=list&rtype=custom&r=world&time=life&fmt=csv) while logged into your eBird account\n",
    "* Place all `.csv`s to be processed in the `csv_dir_new` directory\n",
    "* Once each has been processed, it will be moved to the `csv_dir_processed` directory"
   ]
  },
  {
   "cell_type": "code",
   "execution_count": 1,
   "metadata": {},
   "outputs": [],
   "source": [
    "import os\n",
    "import pandas as pd"
   ]
  },
  {
   "cell_type": "markdown",
   "metadata": {},
   "source": [
    "Where life lists are stored:\n",
    "* `csv_dir_new`: this is the directory of lists to perform the update using. \n",
    "    * Use `'lists_new/'` to update the current `.csv` with individual lists in the `'lists_new/'` dir. \n",
    "    * Make this value `'lists_processed/'` after running `initialize_list.ipynb` to re-process all processed files.\n",
    "* `csv_dir_processed`: this is the directory to which lists will be moved after processing"
   ]
  },
  {
   "cell_type": "code",
   "execution_count": 2,
   "metadata": {},
   "outputs": [],
   "source": [
    "# Do actual incrementing or testing, depending on which lines are commented out\n",
    "csv_dir_new = 'lists_processed/' # 'lists_new/'\n",
    "csv_dir_processed = 'lists_processed/'\n",
    "\n",
    "# For a demonstration, use the lines below. For using your own lists, comment out the lines below.\n",
    "csv_dir_new = 'lists_test/'\n",
    "csv_dir_processed = 'lists_test/'"
   ]
  },
  {
   "cell_type": "markdown",
   "metadata": {},
   "source": [
    "Load current list of species and get total number of species possible"
   ]
  },
  {
   "cell_type": "code",
   "execution_count": 3,
   "metadata": {},
   "outputs": [],
   "source": [
    "# Where the completed seen_list is stored\n",
    "current_list = 'seen_list_test.csv'\n",
    "name_of_seen_column = 'number of people seeing species'\n",
    "\n",
    "# Use scientific name as index for easy lookup by scientific names later\n",
    "all_species = pd.read_csv(current_list, index_col = 'scientific name')\n",
    "total_spp_possible = all_species.shape[0]\n",
    "\n",
    "# Lists of all species possible, by scientific and common name\n",
    "all_species_scientific = all_species.index\n",
    "all_species_common = all_species['English name'].values"
   ]
  },
  {
   "cell_type": "code",
   "execution_count": 4,
   "metadata": {},
   "outputs": [],
   "source": [
    "def check_spp(sub_list, list_type):\n",
    "    '''\n",
    "    Make sure sub_list contains only species\n",
    "    that are in the master dataframe, all_species.\n",
    "    Checks a different column of all_species\n",
    "    depending on the value of `list_type`.\n",
    "    Prints any invalid species found.\n",
    "    \n",
    "    Inputs:\n",
    "        sub_list: list to check \n",
    "        list_type (str): 'scientific' or 'common'.\n",
    "            Determines whether to check sub_list against\n",
    "            the scientific or common name lists (described\n",
    "            in \"Globals\" below)\n",
    "    \n",
    "    Globals:\n",
    "        all_species_scientific: list of valid scientific names\n",
    "        all_species_common: list of valid common names\n",
    "    \n",
    "    Returns:\n",
    "        A list of all valid species on `sub_list`.\n",
    "    '''\n",
    "\n",
    "    # Get list of items \n",
    "    if list_type == 'scientific':\n",
    "        non_subset_items = list(set(sub_list) - set(all_species_scientific))\n",
    "    elif list_type == 'common':\n",
    "        non_subset_items = list(set(sub_list) - set(all_species_common))\n",
    "    else:\n",
    "        print(f\"Received list_type = {list_type}; valid types are 'scientific' and 'common'\")\n",
    "        return []\n",
    "    \n",
    "    # Print any invalid items\n",
    "    if non_subset_items:\n",
    "        print('Invalid species found:')\n",
    "        for item in non_subset_items:\n",
    "            print(item)\n",
    "    \n",
    "    # Return all valid species\n",
    "    return list(set(sub_list) - set(non_subset_items))\n",
    "\n",
    "\n",
    "def add_spp(sub_list, list_type):\n",
    "    '''\n",
    "    For species in sub_list, increment\n",
    "    seen column of master dataframe inplace\n",
    "    \n",
    "    Inputs:\n",
    "        sub_list: list of species to increment\n",
    "        list_type (string): either 'scientific' or 'common'.\n",
    "            Determines whether to search for row to \n",
    "            increment based on scientific name or common name.\n",
    "    \n",
    "    Globals:\n",
    "        all_species (DataFrame): the dataframe to update\n",
    "        name_of_seen_column: the column to increment in \n",
    "            the all_species dataframe\n",
    "    '''\n",
    "    if list_type == 'scientific':\n",
    "        for scientific_name in sub_list:\n",
    "            all_species.loc[scientific_name, name_of_seen_column] += 1\n",
    "            \n",
    "    else: #list_type == 'common'\n",
    "        for common_name in sub_list:\n",
    "             all_species.loc[all_species['English name'] == common_name, name_of_seen_column] += 1\n",
    "                \n",
    "    return 0"
   ]
  },
  {
   "cell_type": "markdown",
   "metadata": {},
   "source": [
    "If `mode == 'liberal'`, if there are invalid species in a life list, the script below will still add any \n",
    "valid species to the master dataframe, and will move the problematic life_list to the \"processed\" folder. If `mode != 'liberal'`, the life list will not be processed and moved."
   ]
  },
  {
   "cell_type": "code",
   "execution_count": 5,
   "metadata": {},
   "outputs": [],
   "source": [
    "mode = 'liberal'"
   ]
  },
  {
   "cell_type": "markdown",
   "metadata": {},
   "source": [
    "The code below does the following for each `.csv`:\n",
    "* Gets a raw species list from the `Species` column of the `.csv`\n",
    "    * If there is no Species column or the list is empty, an error will be thrown\n",
    "* Figures out the format of the raw species list:\n",
    "    * Scientific names\n",
    "    * Common names, assumed to be English (United States)\n",
    "    * \"Common name - scientific name\" (scientific name will be used)\n",
    "* Extracts either common or scientific names from the raw species list\n",
    "* Uses `check_spp()` to make sure that the extracted list contains only names that are in the dataframe of all sightings (`all_species`)\n",
    "* "
   ]
  },
  {
   "cell_type": "code",
   "execution_count": 6,
   "metadata": {},
   "outputs": [
    {
     "name": "stdout",
     "output_type": "stream",
     "text": [
      "test_ebird_world_life_list_scinames.csv: using scientific name\n",
      "\n",
      "test_ebird_world_life_list_commonnames.csv: using English name\n",
      "\n",
      "test_ebird_world_life_list_common-and-scinames.csv: splitting species column & using scientific name\n",
      "\n"
     ]
    }
   ],
   "source": [
    "# Life lists to process\n",
    "csvs_to_process = [file for file in os.listdir(csv_dir_new) if file.endswith('.csv')]\n",
    "\n",
    "# TODO: strip species of spaces before and after\n",
    "for csv_name in csvs_to_process:\n",
    "    \n",
    "    csv_path = os.path.join(csv_dir_new, csv_name)\n",
    "    life_list = pd.read_csv(csv_path)\n",
    "    errors = False\n",
    "    \n",
    "    # Get raw species listing from .csv\n",
    "    try:\n",
    "        assert 'Species' in life_list.columns\n",
    "        species = life_list.Species\n",
    "        first_species = species[0]\n",
    "        \n",
    "    except:\n",
    "        # No Species column in life list\n",
    "        # or species list produced was empty\n",
    "        first_species = None\n",
    "    \n",
    "    \n",
    "    # Determine the format of the species list in the .csv (i.e., \n",
    "    # common names, scientific names, or \"common name - scientific name\")\n",
    "    # and extract a species list.\n",
    "    if ' - ' in first_species:\n",
    "        # 'Species' column of .csv is in \"English name - scientific name\" format\n",
    "        print(f'{csv_name}: splitting species column & using scientific name')\n",
    "        \n",
    "        # Get species on life list\n",
    "        species_seen_by_birder = [entry.split(' - ')[-1] for entry in species]\n",
    "        list_type = 'scientific'\n",
    "    \n",
    "    elif first_species in all_species_common:\n",
    "        # 'Species' column of .csv is in English name only format\n",
    "        print(f'{csv_name}: using English name')\n",
    "        \n",
    "        species_seen_by_birder = life_list['Species'].values\n",
    "        list_type = 'common'\n",
    "    \n",
    "    elif first_species in all_species_scientific:\n",
    "        # 'Species' column of .csv is in scientific name only format\n",
    "        print(f'{csv_name}: using scientific name')\n",
    "        \n",
    "        species_seen_by_birder = life_list['Species'].values\n",
    "        list_type = 'scientific'\n",
    "    \n",
    "    else:\n",
    "        # Format not recognized, or first_species was set to None\n",
    "        # in the try/except logic above\n",
    "        print('Error in species column')\n",
    "        errors = True\n",
    "        \n",
    "        \n",
    "    # Check that all species are valid\n",
    "    if not errors:\n",
    "        checked_list = check_spp(species_seen_by_birder, list_type) \n",
    "        \n",
    "        # If some species were removed during checking\n",
    "        if len(checked_list) != len(species_seen_by_birder):\n",
    "            print('Invalid species detected')\n",
    "            if mode != 'liberal':\n",
    "                errors = True\n",
    "            else:\n",
    "                print('Adding valid species only')\n",
    "    \n",
    "    # If all species were valid, or if there were some invalid \n",
    "    # species removed from `checked_list` but `mode == 'liberal',\n",
    "    # increment all species on `checked_list` and move \n",
    "    # the .csv to the \"processed\" folder, `csv_dir_processed`\n",
    "    if not errors:\n",
    "        # Add species to dataframe\n",
    "        errors = add_spp(checked_list, list_type)\n",
    "            \n",
    "        # Move file to 'processed' folder\n",
    "        os.rename(csv_path, os.path.join(csv_dir_processed, csv_name))\n",
    "    \n",
    "    # If there were unacceptable errors, do not increment\n",
    "    # the species in the life list, and do not move the life list\n",
    "    # to the \"processed\" folder\n",
    "    else:\n",
    "        print(f'Failure for {csv_name}')\n",
    "        \n",
    "    print()"
   ]
  },
  {
   "cell_type": "markdown",
   "metadata": {},
   "source": [
    "Ensure we haven't added any extra species!"
   ]
  },
  {
   "cell_type": "code",
   "execution_count": 7,
   "metadata": {},
   "outputs": [],
   "source": [
    "assert(all_species.shape[0] == total_spp_possible)"
   ]
  },
  {
   "cell_type": "markdown",
   "metadata": {},
   "source": [
    "Save to `.csv`"
   ]
  },
  {
   "cell_type": "code",
   "execution_count": 8,
   "metadata": {},
   "outputs": [],
   "source": [
    "all_species.to_csv(current_list)"
   ]
  }
 ],
 "metadata": {
  "kernelspec": {
   "display_name": "Python 3",
   "language": "python",
   "name": "python3"
  },
  "language_info": {
   "codemirror_mode": {
    "name": "ipython",
    "version": 3
   },
   "file_extension": ".py",
   "mimetype": "text/x-python",
   "name": "python",
   "nbconvert_exporter": "python",
   "pygments_lexer": "ipython3",
   "version": "3.6.8"
  }
 },
 "nbformat": 4,
 "nbformat_minor": 2
}
