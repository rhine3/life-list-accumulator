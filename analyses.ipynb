{
 "cells": [
  {
   "cell_type": "code",
   "execution_count": 1,
   "metadata": {},
   "outputs": [],
   "source": [
    "import pandas as pd"
   ]
  },
  {
   "cell_type": "markdown",
   "metadata": {},
   "source": [
    "# Total species"
   ]
  },
  {
   "cell_type": "code",
   "execution_count": 2,
   "metadata": {},
   "outputs": [],
   "source": [
    "results = pd.read_csv('seen_list.csv')"
   ]
  },
  {
   "cell_type": "code",
   "execution_count": 3,
   "metadata": {},
   "outputs": [
    {
     "data": {
      "text/plain": [
       "7663"
      ]
     },
     "execution_count": 3,
     "metadata": {},
     "output_type": "execute_result"
    }
   ],
   "source": [
    "results[results['number of people seeing species'] > 0].shape[0]"
   ]
  },
  {
   "cell_type": "markdown",
   "metadata": {},
   "source": [
    "# How many genera (\"genuses\") have we seen?"
   ]
  },
  {
   "cell_type": "code",
   "execution_count": 4,
   "metadata": {},
   "outputs": [],
   "source": [
    "results[['genus', 'species']] = results['scientific name'].str.split(' ', expand=True)"
   ]
  },
  {
   "cell_type": "code",
   "execution_count": 5,
   "metadata": {},
   "outputs": [],
   "source": [
    "genera = results['genus'].unique()"
   ]
  },
  {
   "cell_type": "code",
   "execution_count": 6,
   "metadata": {},
   "outputs": [],
   "source": [
    "for genus in genera:\n",
    "    total_sightings_of_genus = sum(results.loc[results['genus'] == genus, 'number of people seeing species'].values)\n",
    "    results.loc[results['genus']==genus, 'total sightings of genus'] = total_sightings_of_genus"
   ]
  },
  {
   "cell_type": "code",
   "execution_count": 7,
   "metadata": {},
   "outputs": [],
   "source": [
    "unfound_genera = results[results['total sightings of genus'] == 0]['genus'].unique()"
   ]
  },
  {
   "cell_type": "code",
   "execution_count": 8,
   "metadata": {},
   "outputs": [
    {
     "name": "stdout",
     "output_type": "stream",
     "text": [
      "Of 2265 genera, we have seen 1989.\n",
      "That means we're missing 276 genera!\n"
     ]
    }
   ],
   "source": [
    "print(f'Of {len(genera)} genera, we have seen {len(genera) - len(unfound_genera)}.')\n",
    "print(f\"That means we're missing {len(unfound_genera)} genera!\")"
   ]
  },
  {
   "cell_type": "markdown",
   "metadata": {},
   "source": [
    "### How many species are in each unfound genus?"
   ]
  },
  {
   "cell_type": "code",
   "execution_count": 9,
   "metadata": {},
   "outputs": [
    {
     "name": "stdout",
     "output_type": "stream",
     "text": [
      "Missing genera with more than 2 representatives:\n",
      "Pauxi (3 species)\n",
      "Tragopan (5 species)\n",
      "Alopecoenas (13 species)\n",
      "Setopagis (4 species)\n",
      "Prosobonia (4 species)\n",
      "Coenocorypha (6 species)\n",
      "Fregetta (3 species)\n",
      "Prosopeia (3 species)\n",
      "Vini (5 species)\n",
      "Anodorhynchus (3 species)\n",
      "Pomarea (9 species)\n",
      "Mayrornis (3 species)\n",
      "Clytorhynchus (4 species)\n",
      "Podoces (4 species)\n",
      "Megalurulus (5 species)\n",
      "Spelaeornis (8 species)\n",
      "Moho (4 species)\n",
      "Akialoa (4 species)\n",
      "Nesospiza (3 species)\n"
     ]
    }
   ],
   "source": [
    "unfound_genera_species = []\n",
    "print(\"Missing genera with more than 2 representatives:\")\n",
    "for genus in unfound_genera:\n",
    "    num_spp = results.loc[results['genus']==genus].shape[0]\n",
    "    unfound_genera_species.append(num_spp)\n",
    "    if num_spp > 2:\n",
    "        print(genus, f'({num_spp} species)')"
   ]
  },
  {
   "cell_type": "code",
   "execution_count": 10,
   "metadata": {},
   "outputs": [
    {
     "data": {
      "image/png": "[encoded data removed]",
      "text/plain": [
       "<Figure size 432x288 with 1 Axes>"
      ]
     },
     "metadata": {
      "needs_background": "light"
     },
     "output_type": "display_data"
    }
   ],
   "source": [
    "import matplotlib.pyplot as plt\n",
    "%matplotlib inline\n",
    "n, bins, patches = plt.hist(unfound_genera_species, bins=20)\n",
    "xlabel = plt.xlabel('Number of species')\n",
    "ylabel = plt.ylabel('Number of genera')\n",
    "title = plt.title('Number of species in unfound genera')\n",
    "plt.show()"
   ]
  },
  {
   "cell_type": "markdown",
   "metadata": {},
   "source": [
    "Unsurprisingly, most of the unfound genera have only one or two representatives."
   ]
  }
 ],
 "metadata": {
  "kernelspec": {
   "display_name": "Python 3",
   "language": "python",
   "name": "python3"
  },
  "language_info": {
   "codemirror_mode": {
    "name": "ipython",
    "version": 3
   },
   "file_extension": ".py",
   "mimetype": "text/x-python",
   "name": "python",
   "nbconvert_exporter": "python",
   "pygments_lexer": "ipython3",
   "version": "3.6.9"
  }
 },
 "nbformat": 4,
 "nbformat_minor": 4
}
